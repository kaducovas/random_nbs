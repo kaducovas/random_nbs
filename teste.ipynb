{
 "cells": [
  {
   "cell_type": "code",
   "execution_count": 91,
   "metadata": {
    "collapsed": false
   },
   "outputs": [],
   "source": [
    "from minisom import MiniSom\n",
    "import pandas as pd\n",
    "import numpy as np\n",
    "import matplotlib\n",
    "import matplotlib.pylab as plt\n",
    "%matplotlib inline\n",
    "from matplotlib.pylab import rcParams\n",
    "rcParams['figure.figsize'] = 16.8,6.72\n",
    "import math\n",
    "import sklearn\n",
    "from sklearn.preprocessing import MinMaxScaler\n",
    "import sklearn\n",
    "from scipy.stats import zscore\n",
    "import somoclu\n",
    "import seaborn\n",
    "#import Orange\n",
    "from mpl_toolkits.mplot3d import Axes3D\n",
    "#%matplotlib inline\n",
    "from scipy.cluster.hierarchy import dendrogram, linkage\n",
    "from scipy.cluster.hierarchy import cophenet\n",
    "from scipy.spatial.distance import pdist\n",
    "from scipy.cluster.hierarchy import inconsistent\n",
    "from Orange.projection.pca import PCA\n",
    "from scipy.cluster.hierarchy import fcluster\n",
    "from sklearn.utils import shuffle\n",
    "from sklearn.neighbors.kde import KernelDensity\n",
    "from time import time\n",
    "import sompy\n",
    "from sklearn import preprocessing"
   ]
  },
  {
   "cell_type": "code",
   "execution_count": 4,
   "metadata": {
    "collapsed": false
   },
   "outputs": [
    {
     "data": {
      "text/html": [
       "<div>\n",
       "<style>\n",
       "    .dataframe thead tr:only-child th {\n",
       "        text-align: right;\n",
       "    }\n",
       "\n",
       "    .dataframe thead th {\n",
       "        text-align: left;\n",
       "    }\n",
       "\n",
       "    .dataframe tbody tr th {\n",
       "        vertical-align: top;\n",
       "    }\n",
       "</style>\n",
       "<table border=\"1\" class=\"dataframe\">\n",
       "  <thead>\n",
       "    <tr style=\"text-align: right;\">\n",
       "      <th></th>\n",
       "      <th>Retainability</th>\n",
       "      <th>HOSR</th>\n",
       "      <th>RSRP</th>\n",
       "      <th>RSRQ</th>\n",
       "      <th>SINR</th>\n",
       "      <th>Throughput</th>\n",
       "      <th>Distance</th>\n",
       "      <th>FaultCause</th>\n",
       "    </tr>\n",
       "  </thead>\n",
       "  <tbody>\n",
       "    <tr>\n",
       "      <th>0</th>\n",
       "      <td>0.853</td>\n",
       "      <td>0.609</td>\n",
       "      <td>-66.728</td>\n",
       "      <td>-20.042</td>\n",
       "      <td>10.836</td>\n",
       "      <td>148.692</td>\n",
       "      <td>0.713</td>\n",
       "      <td>1</td>\n",
       "    </tr>\n",
       "    <tr>\n",
       "      <th>1</th>\n",
       "      <td>0.909</td>\n",
       "      <td>0.800</td>\n",
       "      <td>-61.816</td>\n",
       "      <td>-19.071</td>\n",
       "      <td>15.236</td>\n",
       "      <td>205.652</td>\n",
       "      <td>0.601</td>\n",
       "      <td>1</td>\n",
       "    </tr>\n",
       "    <tr>\n",
       "      <th>2</th>\n",
       "      <td>0.963</td>\n",
       "      <td>0.818</td>\n",
       "      <td>-61.778</td>\n",
       "      <td>-18.862</td>\n",
       "      <td>16.395</td>\n",
       "      <td>251.339</td>\n",
       "      <td>0.587</td>\n",
       "      <td>1</td>\n",
       "    </tr>\n",
       "    <tr>\n",
       "      <th>3</th>\n",
       "      <td>0.940</td>\n",
       "      <td>0.889</td>\n",
       "      <td>-63.843</td>\n",
       "      <td>-19.436</td>\n",
       "      <td>14.816</td>\n",
       "      <td>232.213</td>\n",
       "      <td>0.586</td>\n",
       "      <td>1</td>\n",
       "    </tr>\n",
       "    <tr>\n",
       "      <th>4</th>\n",
       "      <td>0.952</td>\n",
       "      <td>0.900</td>\n",
       "      <td>-61.796</td>\n",
       "      <td>-19.403</td>\n",
       "      <td>14.402</td>\n",
       "      <td>191.574</td>\n",
       "      <td>0.629</td>\n",
       "      <td>1</td>\n",
       "    </tr>\n",
       "  </tbody>\n",
       "</table>\n",
       "</div>"
      ],
      "text/plain": [
       "   Retainability   HOSR    RSRP    RSRQ    SINR  Throughput  Distance  \\\n",
       "0          0.853  0.609 -66.728 -20.042  10.836     148.692     0.713   \n",
       "1          0.909  0.800 -61.816 -19.071  15.236     205.652     0.601   \n",
       "2          0.963  0.818 -61.778 -18.862  16.395     251.339     0.587   \n",
       "3          0.940  0.889 -63.843 -19.436  14.816     232.213     0.586   \n",
       "4          0.952  0.900 -61.796 -19.403  14.402     191.574     0.629   \n",
       "\n",
       "   FaultCause  \n",
       "0           1  \n",
       "1           1  \n",
       "2           1  \n",
       "3           1  \n",
       "4           1  "
      ]
     },
     "execution_count": 4,
     "metadata": {},
     "output_type": "execute_result"
    }
   ],
   "source": [
    "filedata= 'D:/Development/mestrado/uma/dataset/callsinfo.csv'\n",
    "df = pd.read_csv(filedata, engine='python', sep=';')\n",
    "df.head()"
   ]
  },
  {
   "cell_type": "code",
   "execution_count": 6,
   "metadata": {
    "collapsed": false
   },
   "outputs": [],
   "source": [
    "sorted_df = df.sort_values('FaultCause')"
   ]
  },
  {
   "cell_type": "code",
   "execution_count": 13,
   "metadata": {
    "collapsed": false
   },
   "outputs": [],
   "source": [
    "#sorted_df.groupby(['FaultCause'])[[\"Retainability\", \"HOSR\", \"RSRP\",\"RSRQ\",\"SINR\",\"Throughput\",\"Distance\"]].count()\n",
    "#sorted_df[0:len(sorted_df)-3000].groupby(['FaultCause']).count()\n",
    "base = shuffle(sorted_df[0:len(sorted_df)-3000])"
   ]
  },
  {
   "cell_type": "code",
   "execution_count": 100,
   "metadata": {
    "collapsed": false
   },
   "outputs": [
    {
     "data": {
      "text/plain": [
       "1559"
      ]
     },
     "execution_count": 100,
     "metadata": {},
     "output_type": "execute_result"
    }
   ],
   "source": [
    "len(base)"
   ]
  },
  {
   "cell_type": "code",
   "execution_count": 38,
   "metadata": {
    "collapsed": false
   },
   "outputs": [],
   "source": [
    "# split into train and test sets\n",
    "train_size = int(len(base) * 0.2) ### in order to divide as 550 and 4009\n",
    "test_size = len(base) - train_size\n",
    "train_df, test_df = base[0:train_size], base[train_size:len(base)]\n",
    "\n",
    "\n",
    "# normalize the dataset\n",
    "train_df_zscore = train_df.apply(zscore)\n",
    "test_df_zscore = test_df.apply(zscore)\n",
    "\n",
    "###transform pandas dataframe to numpy\n",
    "train_df_zscore = train_df_zscore.values\n",
    "train = train_df_zscore.astype('float32')\n",
    "\n",
    "test_df_zscore = test_df_zscore.values\n",
    "test = test_df_zscore.astype('float32')\n"
   ]
  },
  {
   "cell_type": "code",
   "execution_count": 39,
   "metadata": {
    "collapsed": false
   },
   "outputs": [
    {
     "data": {
      "text/html": [
       "<div>\n",
       "<style>\n",
       "    .dataframe thead tr:only-child th {\n",
       "        text-align: right;\n",
       "    }\n",
       "\n",
       "    .dataframe thead th {\n",
       "        text-align: left;\n",
       "    }\n",
       "\n",
       "    .dataframe tbody tr th {\n",
       "        vertical-align: top;\n",
       "    }\n",
       "</style>\n",
       "<table border=\"1\" class=\"dataframe\">\n",
       "  <thead>\n",
       "    <tr style=\"text-align: right;\">\n",
       "      <th></th>\n",
       "      <th>Retainability</th>\n",
       "      <th>HOSR</th>\n",
       "      <th>RSRP</th>\n",
       "      <th>RSRQ</th>\n",
       "      <th>SINR</th>\n",
       "      <th>Throughput</th>\n",
       "      <th>Distance</th>\n",
       "    </tr>\n",
       "    <tr>\n",
       "      <th>FaultCause</th>\n",
       "      <th></th>\n",
       "      <th></th>\n",
       "      <th></th>\n",
       "      <th></th>\n",
       "      <th></th>\n",
       "      <th></th>\n",
       "      <th></th>\n",
       "    </tr>\n",
       "  </thead>\n",
       "  <tbody>\n",
       "    <tr>\n",
       "      <th>1</th>\n",
       "      <td>42</td>\n",
       "      <td>42</td>\n",
       "      <td>42</td>\n",
       "      <td>42</td>\n",
       "      <td>42</td>\n",
       "      <td>42</td>\n",
       "      <td>42</td>\n",
       "    </tr>\n",
       "    <tr>\n",
       "      <th>2</th>\n",
       "      <td>22</td>\n",
       "      <td>22</td>\n",
       "      <td>22</td>\n",
       "      <td>22</td>\n",
       "      <td>22</td>\n",
       "      <td>22</td>\n",
       "      <td>22</td>\n",
       "    </tr>\n",
       "    <tr>\n",
       "      <th>3</th>\n",
       "      <td>17</td>\n",
       "      <td>17</td>\n",
       "      <td>17</td>\n",
       "      <td>17</td>\n",
       "      <td>17</td>\n",
       "      <td>17</td>\n",
       "      <td>17</td>\n",
       "    </tr>\n",
       "    <tr>\n",
       "      <th>4</th>\n",
       "      <td>49</td>\n",
       "      <td>49</td>\n",
       "      <td>49</td>\n",
       "      <td>49</td>\n",
       "      <td>49</td>\n",
       "      <td>49</td>\n",
       "      <td>49</td>\n",
       "    </tr>\n",
       "    <tr>\n",
       "      <th>5</th>\n",
       "      <td>50</td>\n",
       "      <td>50</td>\n",
       "      <td>50</td>\n",
       "      <td>50</td>\n",
       "      <td>50</td>\n",
       "      <td>50</td>\n",
       "      <td>50</td>\n",
       "    </tr>\n",
       "    <tr>\n",
       "      <th>6</th>\n",
       "      <td>54</td>\n",
       "      <td>54</td>\n",
       "      <td>54</td>\n",
       "      <td>54</td>\n",
       "      <td>54</td>\n",
       "      <td>54</td>\n",
       "      <td>54</td>\n",
       "    </tr>\n",
       "    <tr>\n",
       "      <th>7</th>\n",
       "      <td>77</td>\n",
       "      <td>77</td>\n",
       "      <td>77</td>\n",
       "      <td>77</td>\n",
       "      <td>77</td>\n",
       "      <td>77</td>\n",
       "      <td>77</td>\n",
       "    </tr>\n",
       "  </tbody>\n",
       "</table>\n",
       "</div>"
      ],
      "text/plain": [
       "            Retainability  HOSR  RSRP  RSRQ  SINR  Throughput  Distance\n",
       "FaultCause                                                             \n",
       "1                      42    42    42    42    42          42        42\n",
       "2                      22    22    22    22    22          22        22\n",
       "3                      17    17    17    17    17          17        17\n",
       "4                      49    49    49    49    49          49        49\n",
       "5                      50    50    50    50    50          50        50\n",
       "6                      54    54    54    54    54          54        54\n",
       "7                      77    77    77    77    77          77        77"
      ]
     },
     "execution_count": 39,
     "metadata": {},
     "output_type": "execute_result"
    }
   ],
   "source": [
    "train_df.groupby(['FaultCause']).count()"
   ]
  },
  {
   "cell_type": "code",
   "execution_count": 69,
   "metadata": {
    "collapsed": false
   },
   "outputs": [
    {
     "name": "stdout",
     "output_type": "stream",
     "text": [
      "(311, 8)\n",
      "(1248, 8)\n"
     ]
    }
   ],
   "source": [
    "print(train.shape)\n",
    "print(test.shape)"
   ]
  },
  {
   "cell_type": "code",
   "execution_count": 94,
   "metadata": {
    "collapsed": false
   },
   "outputs": [],
   "source": [
    "min_max_scaler = preprocessing.MinMaxScaler()\n",
    "np_scaled = min_max_scaler.fit_transform(train_df[[\"Retainability\", \"HOSR\", \"RSRP\",\"RSRQ\",\"SINR\",\"Throughput\",\"Distance\"]])\n",
    "train_df_normalized = pd.DataFrame(np_scaled)"
   ]
  },
  {
   "cell_type": "code",
   "execution_count": 97,
   "metadata": {
    "collapsed": false
   },
   "outputs": [],
   "source": [
    "train_df_normalized['FaultCause'] = train_df['FaultCause'].values\n",
    "train_df_normalized.head()\n",
    "train_df_normalized.to_csv(path_or_buf='D:/Development/mestrado/uma/dataset/train_norm_callsinfo2.csv', sep=',')"
   ]
  },
  {
   "cell_type": "code",
   "execution_count": 105,
   "metadata": {
    "collapsed": false
   },
   "outputs": [],
   "source": [
    "#train_df[[\"Retainability\", \"HOSR\", \"RSRP\",\"RSRQ\",\"SINR\",\"Throughput\",\"Distance\"]].apply(zscore)\n",
    "t1 = base[[\"Retainability\", \"HOSR\", \"RSRP\",\"RSRQ\",\"SINR\",\"Throughput\",\"Distance\"]].apply(zscore)\n",
    "t1['FaultCause'] = base['FaultCause'].values\n",
    "t1.to_csv(path_or_buf='D:/Development/mestrado/uma/dataset/base_norm_callsinfo.csv', sep=',')\n",
    "#train_df['FaultCause'].values"
   ]
  },
  {
   "cell_type": "code",
   "execution_count": 80,
   "metadata": {
    "collapsed": false
   },
   "outputs": [],
   "source": [
    "train_df.to_csv(path_or_buf='D:/Development/mestrado/uma/dataset/train_callsinfo.csv', sep=',')"
   ]
  },
  {
   "cell_type": "code",
   "execution_count": 49,
   "metadata": {
    "collapsed": false
   },
   "outputs": [
    {
     "name": "stdout",
     "output_type": "stream",
     "text": [
      "Wall time: 2min 12s\n"
     ]
    }
   ],
   "source": [
    "#n_rows, n_columns = 100, 160\n",
    "n_rows, n_columns = 20,20\n",
    "#som = somoclu.Somoclu(n_columns, n_rows, compactsupport=False)\n",
    "som = somoclu.Somoclu(n_columns, n_rows, compactsupport=False,initialization=\"pca\",gridtype='rectangular',neighborhood='bubble')\n",
    "#%time som.train(dataset,epochs=1000, radius0=10, radiusN=2, radiuscooling='linear', scale0=0.1, scaleN=0.01, scalecooling='linear')\n",
    "%time som.train(train,epochs=20000, radius0=10, radiusN=0, radiuscooling='linear', scale0=0.1, scaleN=0.01, scalecooling='linear')"
   ]
  },
  {
   "cell_type": "code",
   "execution_count": 47,
   "metadata": {
    "collapsed": false
   },
   "outputs": [
    {
     "data": {
      "image/png": "[encoded data removed]",
      "text/plain": [
       "<matplotlib.figure.Figure at 0x786df60>"
      ]
     },
     "metadata": {},
     "output_type": "display_data"
    },
    {
     "data": {
      "text/plain": [
       "<module 'matplotlib.pyplot' from 'C:\\\\Anaconda2\\\\envs\\\\py36\\\\lib\\\\site-packages\\\\matplotlib\\\\pyplot.py'>"
      ]
     },
     "execution_count": 47,
     "metadata": {},
     "output_type": "execute_result"
    }
   ],
   "source": [
    "som.view_umatrix(bestmatches=True,colorbar=1)"
   ]
  },
  {
   "cell_type": "code",
   "execution_count": 107,
   "metadata": {
    "collapsed": false
   },
   "outputs": [
    {
     "data": {
      "text/plain": [
       "0.72833071442846609"
      ]
     },
     "execution_count": 107,
     "metadata": {},
     "output_type": "execute_result"
    }
   ],
   "source": [
    "W = som.codebook.reshape((som.codebook.shape[0] * som.codebook.shape[1], som.codebook.shape[2]))\n",
    "# generate the linkage matrix\n",
    "Z = linkage(W, 'ward')\n",
    "c, coph_dists = cophenet(Z, pdist(W))\n",
    "c"
   ]
  },
  {
   "cell_type": "code",
   "execution_count": 51,
   "metadata": {
    "collapsed": true
   },
   "outputs": [],
   "source": [
    "import neurolab"
   ]
  },
  {
   "cell_type": "code",
   "execution_count": 99,
   "metadata": {
    "collapsed": false
   },
   "outputs": [
    {
     "name": "stdout",
     "output_type": "stream",
     "text": [
      "Epoch: 20; Error: 33.47107899571702;\n",
      "Epoch: 40; Error: 32.57011892315738;\n",
      "Epoch: 60; Error: 32.557669784828725;\n",
      "Epoch: 80; Error: 32.5609660583841;\n",
      "Epoch: 100; Error: 32.56182594218226;\n",
      "Epoch: 120; Error: 32.561984481055106;\n",
      "Epoch: 140; Error: 32.56201288177206;\n",
      "Epoch: 160; Error: 32.562018071346856;\n",
      "Epoch: 180; Error: 32.5620190344334;\n",
      "Epoch: 200; Error: 32.56201921528249;\n",
      "The maximum number of train epochs is reached\n"
     ]
    },
    {
     "data": {
      "image/png": "[encoded data removed]",
      "text/plain": [
       "<matplotlib.figure.Figure at 0xd43c8d0>"
      ]
     },
     "metadata": {},
     "output_type": "display_data"
    }
   ],
   "source": [
    "import numpy as np\n",
    "import neurolab as nl\n",
    "import numpy.random as rand\n",
    "\n",
    "centr = np.array([[0.3, 0.0], [0.4, 0.4], [0.7, 0.3], [0.2, 0.5]])\n",
    "rand_norm = 0.05 * rand.randn(100, 4, 2)\n",
    "inp = np.array([centr + r for r in rand_norm])\n",
    "inp.shape = (100 * 4, 2)\n",
    "rand.shuffle(inp) \n",
    "\n",
    "# Create net with 2 inputs and 4 neurons\n",
    "net = nl.net.newc([[0.0, 1.0],[0.0, 1.0]], 4)\n",
    "# train with rule: Conscience Winner Take All algoritm (CWTA)\n",
    "error = net.train(inp, epochs=200, show=20)\n",
    "\n",
    "# Plot results:\n",
    "import pylab as pl\n",
    "pl.title('Classification Problem')\n",
    "pl.subplot(211)\n",
    "pl.plot(error)\n",
    "pl.xlabel('Epoch number')\n",
    "pl.ylabel('error (default MAE)')\n",
    "w = net.layers[0].np['w']\n",
    "\n",
    "pl.subplot(212)\n",
    "pl.plot(inp[:,0], inp[:,1], '.', \\\n",
    "        centr[:,0], centr[:, 1] , 'yv', \\\n",
    "        w[:,0], w[:,1], 'p')\n",
    "pl.legend(['train samples', 'real centers', 'train centers'])\n",
    "pl.show()"
   ]
  },
  {
   "cell_type": "code",
   "execution_count": 64,
   "metadata": {
    "collapsed": false
   },
   "outputs": [
    {
     "data": {
      "text/plain": [
       "array([[ 0.23546035,  0.46688749],\n",
       "       [ 0.36221996,  0.34950749],\n",
       "       [ 0.1925582 ,  0.43310565],\n",
       "       [ 0.40860997,  0.3393433 ],\n",
       "       [ 0.74601169,  0.29295209],\n",
       "       [ 0.75689135,  0.24306006],\n",
       "       [ 0.21999857,  0.25203576],\n",
       "       [ 0.64492318,  0.29222642],\n",
       "       [ 0.77808771,  0.31583273],\n",
       "       [ 0.20535306,  0.4522655 ],\n",
       "       [ 0.6837961 ,  0.34232167],\n",
       "       [ 0.11282878,  0.52278169],\n",
       "       [ 0.23816435,  0.55355464],\n",
       "       [ 0.41020969,  0.33066966],\n",
       "       [ 0.68082647,  0.30551335],\n",
       "       [ 0.60049745,  0.28995284],\n",
       "       [ 0.17334366,  0.21233961],\n",
       "       [ 0.43071518,  0.37876611],\n",
       "       [ 0.36835649,  0.39232967],\n",
       "       [ 0.79477667,  0.26909271],\n",
       "       [ 0.67217767,  0.30254719],\n",
       "       [ 0.44148283,  0.42593902],\n",
       "       [ 0.21586153,  0.14179014],\n",
       "       [ 0.21519222,  0.21562342],\n",
       "       [ 0.32985458,  0.36242376],\n",
       "       [ 0.12788892,  0.5083709 ],\n",
       "       [ 0.19458599,  0.55086914],\n",
       "       [ 0.40866396,  0.41215347],\n",
       "       [ 0.17984841,  0.14230041],\n",
       "       [ 0.84384424,  0.44516644],\n",
       "       [ 0.40662939,  0.41437847],\n",
       "       [ 0.72040513,  0.35918256],\n",
       "       [ 0.22265076,  0.51586641],\n",
       "       [ 0.15093745,  0.53914839],\n",
       "       [ 0.36889533,  0.458238  ],\n",
       "       [ 0.19608556,  0.44025141],\n",
       "       [ 0.41485085,  0.41962745],\n",
       "       [ 0.73989966,  0.34568005],\n",
       "       [ 0.14373553,  0.16134249],\n",
       "       [ 0.72026939,  0.31595045],\n",
       "       [ 0.81665676,  0.2581063 ],\n",
       "       [ 0.31241203,  0.30055739],\n",
       "       [ 0.23845186,  0.2841742 ],\n",
       "       [ 0.33516808,  0.33312864],\n",
       "       [ 0.20209188,  0.20921517],\n",
       "       [ 0.34201617,  0.38780302],\n",
       "       [ 0.13393445,  0.15983135],\n",
       "       [ 0.67554321,  0.22956562],\n",
       "       [ 0.72462869,  0.15819368],\n",
       "       [ 0.4073878 ,  0.46331316],\n",
       "       [ 0.23728884,  0.49567139],\n",
       "       [ 0.3784881 ,  0.47837362],\n",
       "       [ 0.38702624,  0.27052402],\n",
       "       [ 0.33855066,  0.31779111],\n",
       "       [ 0.14597957,  0.21690898],\n",
       "       [ 0.20387122,  0.22532649],\n",
       "       [ 0.18449504,  0.53945401],\n",
       "       [ 0.27520157,  0.22090654],\n",
       "       [ 0.26803246,  0.42631348],\n",
       "       [ 0.52081402,  0.46986873],\n",
       "       [ 0.241264  ,  0.55100237],\n",
       "       [ 0.20868567,  0.49865185],\n",
       "       [ 0.34701726,  0.35580156],\n",
       "       [ 0.22087773,  0.1878643 ],\n",
       "       [ 0.187382  ,  0.5417746 ],\n",
       "       [ 0.42273482,  0.54346194],\n",
       "       [ 0.69669893,  0.33871166],\n",
       "       [ 0.77803758,  0.34332773],\n",
       "       [ 0.20448783,  0.5442872 ],\n",
       "       [ 0.36651435,  0.41371873],\n",
       "       [ 0.39845269,  0.36021437],\n",
       "       [ 0.25108894,  0.52673821],\n",
       "       [ 0.28839496,  0.17462162],\n",
       "       [ 0.70099361,  0.29055279],\n",
       "       [ 0.41685086,  0.4240265 ],\n",
       "       [ 0.1418367 ,  0.50322984],\n",
       "       [ 0.38340024,  0.43149865],\n",
       "       [ 0.40840636,  0.40906825],\n",
       "       [ 0.34617177,  0.61285915],\n",
       "       [ 0.19018228,  0.43909362],\n",
       "       [ 0.25263976,  0.18693247],\n",
       "       [ 0.24424687,  0.45641174],\n",
       "       [ 0.32091495,  0.28419735],\n",
       "       [ 0.21865632,  0.12140369],\n",
       "       [ 0.59477488,  0.33909882],\n",
       "       [ 0.1451045 ,  0.25074501],\n",
       "       [ 0.25861619,  0.60303618],\n",
       "       [ 0.14429049,  0.49764393],\n",
       "       [ 0.36682807,  0.32912813],\n",
       "       [ 0.44400341,  0.4010585 ],\n",
       "       [ 0.14697942,  0.23375349],\n",
       "       [ 0.72112039,  0.35223977],\n",
       "       [ 0.43877587,  0.48193979],\n",
       "       [ 0.23620299,  0.16102772],\n",
       "       [ 0.18879688,  0.5375696 ],\n",
       "       [ 0.17499934,  0.52633009],\n",
       "       [ 0.2089145 ,  0.48679797],\n",
       "       [ 0.11153757,  0.47206042],\n",
       "       [ 0.22276523,  0.12685888],\n",
       "       [ 0.67085336,  0.31375466],\n",
       "       [ 0.26774574,  0.25593694],\n",
       "       [ 0.6775797 ,  0.3708644 ],\n",
       "       [ 0.7151072 ,  0.18332107],\n",
       "       [ 0.35268631,  0.38428923],\n",
       "       [ 0.65089418,  0.23612325],\n",
       "       [ 0.55695868,  0.324649  ],\n",
       "       [ 0.42673418,  0.39662666],\n",
       "       [ 0.31163873,  0.19802386],\n",
       "       [ 0.40598392,  0.35605465],\n",
       "       [ 0.61923928,  0.25788746],\n",
       "       [ 0.28401306,  0.17704035],\n",
       "       [ 0.73577832,  0.25548662],\n",
       "       [ 0.17482356,  0.12305206],\n",
       "       [ 0.43613032,  0.4407595 ],\n",
       "       [ 0.65685182,  0.38065471],\n",
       "       [ 0.38417092,  0.3901967 ],\n",
       "       [ 0.20815697,  0.25787074],\n",
       "       [ 0.08745182,  0.49588438],\n",
       "       [ 0.30395569,  0.49768155],\n",
       "       [ 0.24871093,  0.44783662],\n",
       "       [ 0.20850417,  0.28477981],\n",
       "       [ 0.45559079,  0.3551731 ],\n",
       "       [ 0.61523627,  0.29941359],\n",
       "       [ 0.18879212,  0.44331273],\n",
       "       [ 0.72425067,  0.34413959],\n",
       "       [ 0.79995198,  0.20483563],\n",
       "       [ 0.70474086,  0.39180111],\n",
       "       [ 0.74351957,  0.35833811],\n",
       "       [ 0.74453978,  0.24987725],\n",
       "       [ 0.67255583,  0.26387732],\n",
       "       [ 0.36631331,  0.40269245],\n",
       "       [ 0.13120177,  0.51918579],\n",
       "       [ 0.27581464,  0.48577572],\n",
       "       [ 0.75588941,  0.28962309],\n",
       "       [ 0.4080245 ,  0.43844711],\n",
       "       [ 0.72061379,  0.38870807],\n",
       "       [ 0.1504526 ,  0.25417972],\n",
       "       [ 0.70036048,  0.30357613],\n",
       "       [ 0.72439968,  0.3330602 ],\n",
       "       [ 0.7255752 ,  0.3052941 ],\n",
       "       [ 0.72221816,  0.27662727],\n",
       "       [ 0.44435484,  0.35687083],\n",
       "       [ 0.71883691,  0.31688337],\n",
       "       [ 0.70217591,  0.30399792],\n",
       "       [ 0.25843608,  0.20766829],\n",
       "       [ 0.22097101,  0.16650361],\n",
       "       [ 0.67766672,  0.31011881],\n",
       "       [ 0.20923447,  0.25802061],\n",
       "       [ 0.33857983,  0.45817096],\n",
       "       [ 0.625257  ,  0.31571925],\n",
       "       [ 0.2553397 ,  0.56878777],\n",
       "       [ 0.13850967,  0.27478451],\n",
       "       [ 0.39189448,  0.40293421],\n",
       "       [ 0.71384359,  0.24471043],\n",
       "       [ 0.20066518,  0.14307172],\n",
       "       [ 0.15766375,  0.45731113],\n",
       "       [ 0.22741275,  0.2251887 ],\n",
       "       [ 0.12823131,  0.52232514],\n",
       "       [ 0.69529947,  0.2512974 ],\n",
       "       [ 0.20664123,  0.4131706 ],\n",
       "       [ 0.1521708 ,  0.19812879],\n",
       "       [ 0.36043575,  0.52171797],\n",
       "       [ 0.32457766,  0.38796613],\n",
       "       [ 0.80327094,  0.22527852],\n",
       "       [ 0.23051442,  0.16224618],\n",
       "       [ 0.35910396,  0.40699871],\n",
       "       [ 0.22922675,  0.58148845],\n",
       "       [ 0.20542549,  0.5336533 ],\n",
       "       [ 0.78699832,  0.41630409],\n",
       "       [ 0.20861558,  0.49986176],\n",
       "       [ 0.1406518 ,  0.19001147],\n",
       "       [ 0.34738226,  0.32022152],\n",
       "       [ 0.40290717,  0.43025044],\n",
       "       [ 0.46493326,  0.41337595],\n",
       "       [ 0.22361939,  0.43322237],\n",
       "       [ 0.75793405,  0.37677674],\n",
       "       [ 0.33463575,  0.43129786],\n",
       "       [ 0.21026967,  0.52336706],\n",
       "       [ 0.20792667,  0.51813608],\n",
       "       [ 0.36254425,  0.47902259],\n",
       "       [ 0.16427085,  0.54090853],\n",
       "       [ 0.14486165,  0.43982727],\n",
       "       [ 0.6652013 ,  0.29272774],\n",
       "       [ 0.19263191,  0.49026208],\n",
       "       [ 0.18504629,  0.19331999],\n",
       "       [ 0.18480542,  0.13578228],\n",
       "       [ 0.20186251,  0.17710369],\n",
       "       [ 0.42292268,  0.43093579],\n",
       "       [ 0.20202463,  0.23322515],\n",
       "       [ 0.74583014,  0.35095645],\n",
       "       [ 0.20553593,  0.24803687],\n",
       "       [ 0.53276628,  0.32988306],\n",
       "       [ 0.40482083,  0.40753763],\n",
       "       [ 0.13155782,  0.31306161],\n",
       "       [ 0.12952829,  0.48149067],\n",
       "       [ 0.11554156,  0.22915741],\n",
       "       [ 0.14227754,  0.41364549],\n",
       "       [ 0.22851375,  0.21386507],\n",
       "       [ 0.65834394,  0.28408597],\n",
       "       [ 0.71833901,  0.27639899],\n",
       "       [ 0.73269624,  0.38301561],\n",
       "       [ 0.74707383,  0.24638746],\n",
       "       [ 0.37452091,  0.37786871],\n",
       "       [ 0.23524105,  0.25047035],\n",
       "       [ 0.21662001,  0.51735378],\n",
       "       [ 0.3117205 ,  0.17344662],\n",
       "       [ 0.31903971,  0.44947039],\n",
       "       [ 0.18989752,  0.24058495],\n",
       "       [ 0.46607395,  0.33205042],\n",
       "       [ 0.70379983,  0.22835707],\n",
       "       [ 0.44862593,  0.37275731],\n",
       "       [ 0.3146597 ,  0.33996781],\n",
       "       [ 0.25354262,  0.46016728],\n",
       "       [ 0.66720157,  0.2733834 ],\n",
       "       [ 0.35057505,  0.38483063],\n",
       "       [ 0.7299638 ,  0.32500186],\n",
       "       [ 0.64326509,  0.28390107],\n",
       "       [ 0.15827335,  0.41258873],\n",
       "       [ 0.10257403,  0.20200769],\n",
       "       [ 0.19027151,  0.22862419],\n",
       "       [ 0.71191674,  0.3530909 ],\n",
       "       [ 0.12049066,  0.50487341],\n",
       "       [ 0.26098398,  0.47364794],\n",
       "       [ 0.37529347,  0.3789723 ],\n",
       "       [ 0.39857736,  0.40022828],\n",
       "       [ 0.22690436,  0.23244489],\n",
       "       [ 0.1340579 ,  0.17974562],\n",
       "       [ 0.24793232,  0.56513359],\n",
       "       [ 0.46388598,  0.41825164],\n",
       "       [ 0.20956376,  0.20922442],\n",
       "       [ 0.15500702,  0.55952289],\n",
       "       [ 0.72153601,  0.2550144 ],\n",
       "       [ 0.12555698,  0.25041878],\n",
       "       [ 0.3507105 ,  0.40842362],\n",
       "       [ 0.57165422,  0.23702368],\n",
       "       [ 0.66678972,  0.30932056],\n",
       "       [ 0.14887393,  0.45402274],\n",
       "       [ 0.71292535,  0.25954751],\n",
       "       [ 0.19748171,  0.21747984],\n",
       "       [ 0.17640314,  0.56249818],\n",
       "       [ 0.7036916 ,  0.313235  ],\n",
       "       [ 0.20029208,  0.05699001],\n",
       "       [ 0.16736035,  0.47938599],\n",
       "       [ 0.23208027,  0.196305  ],\n",
       "       [ 0.33251874,  0.36920551],\n",
       "       [ 0.11643943,  0.53038593],\n",
       "       [ 0.45496464,  0.41481554],\n",
       "       [ 0.17392972,  0.54151509],\n",
       "       [ 0.36358991,  0.41695038],\n",
       "       [ 0.70615565,  0.24347248],\n",
       "       [ 0.14234265,  0.57023854],\n",
       "       [ 0.49160235,  0.39676134],\n",
       "       [ 0.16828952,  0.51253613],\n",
       "       [ 0.68111978,  0.2645234 ],\n",
       "       [ 0.26353499,  0.14137414],\n",
       "       [ 0.29119655,  0.44894933],\n",
       "       [ 0.39510879,  0.39124971],\n",
       "       [ 0.20617318,  0.22109658],\n",
       "       [ 0.2054591 ,  0.22242615],\n",
       "       [ 0.33626557,  0.36853505],\n",
       "       [ 0.31206305,  0.23265561],\n",
       "       [ 0.1836888 ,  0.14095456],\n",
       "       [ 0.18811654,  0.11993562],\n",
       "       [ 0.76382894,  0.36163061],\n",
       "       [ 0.29456117,  0.15845105],\n",
       "       [ 0.24171758,  0.57741623],\n",
       "       [ 0.6937488 ,  0.24889952],\n",
       "       [ 0.31992245,  0.34808524],\n",
       "       [ 0.3994358 ,  0.44060248],\n",
       "       [ 0.23826637,  0.11620025],\n",
       "       [ 0.09160515,  0.15418358],\n",
       "       [ 0.18470766,  0.55542398],\n",
       "       [ 0.17726851,  0.13809758],\n",
       "       [ 0.70431   ,  0.28399823],\n",
       "       [ 0.69340068,  0.24031502],\n",
       "       [ 0.20517884,  0.57896705],\n",
       "       [ 0.4001634 ,  0.36737909],\n",
       "       [ 0.24592297,  0.48927928],\n",
       "       [ 0.14684774,  0.16538348],\n",
       "       [ 0.6773492 ,  0.29187638],\n",
       "       [ 0.69013215,  0.30877841],\n",
       "       [ 0.72140931,  0.26019903],\n",
       "       [ 0.20416495,  0.4003367 ],\n",
       "       [ 0.14432503,  0.47299036],\n",
       "       [ 0.76343758,  0.32556042],\n",
       "       [ 0.17884429,  0.17234306],\n",
       "       [ 0.17356855,  0.55315625],\n",
       "       [ 0.4317915 ,  0.3650529 ],\n",
       "       [ 0.21899117,  0.52537758],\n",
       "       [ 0.26873162,  0.33941364],\n",
       "       [ 0.26279902,  0.5185982 ],\n",
       "       [ 0.24937779,  0.24700604],\n",
       "       [ 0.28262294,  0.52911665],\n",
       "       [ 0.74474958,  0.26848236],\n",
       "       [ 0.45649867,  0.38926848],\n",
       "       [ 0.18278376,  0.56155923],\n",
       "       [ 0.20168919,  0.55122481],\n",
       "       [ 0.23415595,  0.48350387],\n",
       "       [ 0.2343087 ,  0.54049484],\n",
       "       [ 0.72009343,  0.33440196],\n",
       "       [ 0.68901178,  0.3863833 ],\n",
       "       [ 0.56736693,  0.31000973],\n",
       "       [ 0.43714906,  0.30930756],\n",
       "       [ 0.42803156,  0.42194548],\n",
       "       [ 0.40512881,  0.37686357],\n",
       "       [ 0.67552812,  0.23183372],\n",
       "       [ 0.70459032,  0.28666577],\n",
       "       [ 0.25298449,  0.1462653 ],\n",
       "       [ 0.68512464,  0.28263691],\n",
       "       [ 0.70113221,  0.39511554],\n",
       "       [ 0.11807663,  0.20173917],\n",
       "       [ 0.14519346,  0.52187796],\n",
       "       [ 0.13263848,  0.19209185],\n",
       "       [ 0.37557686,  0.42296913],\n",
       "       [ 0.20653276,  0.26667148],\n",
       "       [ 0.44514863,  0.44044581],\n",
       "       [ 0.39159967,  0.37098261],\n",
       "       [ 0.6442641 ,  0.324349  ],\n",
       "       [ 0.31841127,  0.39344267],\n",
       "       [ 0.63017381,  0.2802856 ],\n",
       "       [ 0.25573485,  0.16914356],\n",
       "       [ 0.39834328,  0.40717453],\n",
       "       [ 0.35879204,  0.40563981],\n",
       "       [ 0.22402583,  0.48584209],\n",
       "       [ 0.39715514,  0.37393302],\n",
       "       [ 0.34804424,  0.42759291],\n",
       "       [ 0.22187415,  0.14174227],\n",
       "       [ 0.71162203,  0.36844813],\n",
       "       [ 0.14484329,  0.41458181],\n",
       "       [ 0.17222604,  0.38563961],\n",
       "       [ 0.17734573,  0.18141821],\n",
       "       [ 0.44583096,  0.51780713],\n",
       "       [ 0.17802253,  0.2211203 ],\n",
       "       [ 0.15993683,  0.24916382],\n",
       "       [ 0.7088143 ,  0.37048947],\n",
       "       [ 0.3821891 ,  0.34402329],\n",
       "       [ 0.18027111,  0.48532539],\n",
       "       [ 0.24267843,  0.44993326],\n",
       "       [ 0.19601882,  0.36425689],\n",
       "       [ 0.35490834,  0.3296142 ],\n",
       "       [ 0.80246546,  0.32854725],\n",
       "       [ 0.26324032,  0.24058424],\n",
       "       [ 0.24693335,  0.08932071],\n",
       "       [ 0.30092032,  0.19678179],\n",
       "       [ 0.19415303,  0.45539306],\n",
       "       [ 0.28758196,  0.21751181],\n",
       "       [ 0.13034346,  0.54264492],\n",
       "       [ 0.13601148,  0.38922921],\n",
       "       [ 0.39563748,  0.37300676],\n",
       "       [ 0.66740663,  0.27272305],\n",
       "       [ 0.30583913,  0.19591155],\n",
       "       [ 0.26882503,  0.53177434],\n",
       "       [ 0.4070381 ,  0.44655455],\n",
       "       [ 0.18388508,  0.40701464],\n",
       "       [ 0.23098999,  0.17368688],\n",
       "       [ 0.1441731 ,  0.20076445],\n",
       "       [ 0.1233758 ,  0.54628696],\n",
       "       [ 0.65478961,  0.25176749],\n",
       "       [ 0.71206959,  0.3090604 ],\n",
       "       [ 0.23252398,  0.18395041],\n",
       "       [ 0.19701289,  0.40999169],\n",
       "       [ 0.10810464,  0.51787319],\n",
       "       [ 0.20569016,  0.55930396],\n",
       "       [ 0.43008008,  0.36574576],\n",
       "       [ 0.26629849,  0.48059206],\n",
       "       [ 0.20945974,  0.19447162],\n",
       "       [ 0.7346894 ,  0.28425941],\n",
       "       [ 0.17963364,  0.12105786],\n",
       "       [ 0.13367988,  0.16955018],\n",
       "       [ 0.50716751,  0.36505214],\n",
       "       [ 0.17079636,  0.21525796],\n",
       "       [ 0.18301905,  0.51347082],\n",
       "       [ 0.64413528,  0.32156959],\n",
       "       [ 0.30906832,  0.16690053],\n",
       "       [ 0.15587845,  0.17707107],\n",
       "       [ 0.73460487,  0.29451339],\n",
       "       [ 0.42445126,  0.38905077],\n",
       "       [ 0.1840109 ,  0.22335104],\n",
       "       [ 0.19196931,  0.53492438],\n",
       "       [ 0.20318009,  0.23126091],\n",
       "       [ 0.71794087,  0.28593352],\n",
       "       [ 0.33573826,  0.31751088],\n",
       "       [ 0.27057954,  0.15582722],\n",
       "       [ 0.16922764,  0.48752831],\n",
       "       [ 0.20375114,  0.20584042],\n",
       "       [ 0.41658823,  0.44806468],\n",
       "       [ 0.20716766,  0.15459251],\n",
       "       [ 0.15305199,  0.25758377],\n",
       "       [ 0.16169382,  0.45984633],\n",
       "       [ 0.18924459,  0.18789465],\n",
       "       [ 0.41076255,  0.43359514],\n",
       "       [ 0.68147323,  0.38158398],\n",
       "       [ 0.25281756,  0.50735172],\n",
       "       [ 0.14251274,  0.41756722],\n",
       "       [ 0.18309253,  0.15020133],\n",
       "       [ 0.42100529,  0.41581409],\n",
       "       [ 0.27279573,  0.41329765],\n",
       "       [ 0.70195851,  0.32997349],\n",
       "       [ 0.64340706,  0.28600259],\n",
       "       [ 0.17739017,  0.22579692]])"
      ]
     },
     "execution_count": 64,
     "metadata": {},
     "output_type": "execute_result"
    }
   ],
   "source": [
    "inp"
   ]
  },
  {
   "cell_type": "code",
   "execution_count": 58,
   "metadata": {
    "collapsed": true
   },
   "outputs": [],
   "source": [
    "centr = np.array([[0.2, 0.2], [0.4, 0.4], [0.7, 0.3], [0.2, 0.5]])\n",
    "rand_norm = 0.05 * rand.randn(100, 4, 2)"
   ]
  },
  {
   "cell_type": "code",
   "execution_count": 59,
   "metadata": {
    "collapsed": false
   },
   "outputs": [
    {
     "data": {
      "text/plain": [
       "array([[ 0.2,  0.2],\n",
       "       [ 0.4,  0.4],\n",
       "       [ 0.7,  0.3],\n",
       "       [ 0.2,  0.5]])"
      ]
     },
     "execution_count": 59,
     "metadata": {},
     "output_type": "execute_result"
    }
   ],
   "source": [
    "centr"
   ]
  },
  {
   "cell_type": "code",
   "execution_count": 63,
   "metadata": {
    "collapsed": false
   },
   "outputs": [
    {
     "data": {
      "text/plain": [
       "array([[ 1.,  0.,  0.,  0.],\n",
       "       [ 0.,  0.,  0.,  1.],\n",
       "       [ 1.,  0.,  0.,  0.],\n",
       "       ..., \n",
       "       [ 0.,  0.,  1.,  0.],\n",
       "       [ 0.,  0.,  1.,  0.],\n",
       "       [ 0.,  1.,  0.,  0.]])"
      ]
     },
     "execution_count": 63,
     "metadata": {},
     "output_type": "execute_result"
    }
   ],
   "source": [
    "net.sim(inp)"
   ]
  },
  {
   "cell_type": "code",
   "execution_count": 65,
   "metadata": {
    "collapsed": true
   },
   "outputs": [],
   "source": [
    "dataset = [[2.7810836,2.550537003,0],\n",
    "\t[1.465489372,2.362125076,0],\n",
    "\t[3.396561688,4.400293529,0],\n",
    "\t[1.38807019,1.850220317,0],\n",
    "\t[3.06407232,3.005305973,0],\n",
    "\t[7.627531214,2.759262235,1],\n",
    "\t[5.332441248,2.088626775,1],\n",
    "\t[6.922596716,1.77106367,1],\n",
    "\t[8.675418651,-0.242068655,1],\n",
    "\t[7.673756466,3.508563011,1]]"
   ]
  },
  {
   "cell_type": "code",
   "execution_count": 68,
   "metadata": {
    "collapsed": false
   },
   "outputs": [
    {
     "ename": "AttributeError",
     "evalue": "'list' object has no attribute 'shape'",
     "output_type": "error",
     "traceback": [
      "\u001b[1;31m---------------------------------------------------------------------------\u001b[0m",
      "\u001b[1;31mAttributeError\u001b[0m                            Traceback (most recent call last)",
      "\u001b[1;32m<ipython-input-68-573a86964f34>\u001b[0m in \u001b[0;36m<module>\u001b[1;34m()\u001b[0m\n\u001b[1;32m----> 1\u001b[1;33m \u001b[0mdataset\u001b[0m\u001b[1;33m.\u001b[0m\u001b[0mshape\u001b[0m\u001b[1;33m\u001b[0m\u001b[0m\n\u001b[0m",
      "\u001b[1;31mAttributeError\u001b[0m: 'list' object has no attribute 'shape'"
     ]
    }
   ],
   "source": []
  },
  {
   "cell_type": "code",
   "execution_count": 104,
   "metadata": {
    "collapsed": false
   },
   "outputs": [
    {
     "ename": "TypeError",
     "evalue": "slice indices must be integers or None or have an __index__ method",
     "output_type": "error",
     "traceback": [
      "\u001b[1;31m---------------------------------------------------------------------------\u001b[0m",
      "\u001b[1;31mTypeError\u001b[0m                                 Traceback (most recent call last)",
      "\u001b[1;32m<ipython-input-104-8c792d15f3b6>\u001b[0m in \u001b[0;36m<module>\u001b[1;34m()\u001b[0m\n\u001b[0;32m     10\u001b[0m \u001b[1;31m# Create network with 2 layers:4 neurons in input layer(Competitive)\u001b[0m\u001b[1;33m\u001b[0m\u001b[1;33m\u001b[0m\u001b[0m\n\u001b[0;32m     11\u001b[0m \u001b[1;31m# and 2 neurons in output layer(liner)\u001b[0m\u001b[1;33m\u001b[0m\u001b[1;33m\u001b[0m\u001b[0m\n\u001b[1;32m---> 12\u001b[1;33m \u001b[0mnet\u001b[0m \u001b[1;33m=\u001b[0m \u001b[0mnl\u001b[0m\u001b[1;33m.\u001b[0m\u001b[0mnet\u001b[0m\u001b[1;33m.\u001b[0m\u001b[0mnewlvq\u001b[0m\u001b[1;33m(\u001b[0m\u001b[0mnl\u001b[0m\u001b[1;33m.\u001b[0m\u001b[0mtool\u001b[0m\u001b[1;33m.\u001b[0m\u001b[0mminmax\u001b[0m\u001b[1;33m(\u001b[0m\u001b[0minput\u001b[0m\u001b[1;33m)\u001b[0m\u001b[1;33m,\u001b[0m \u001b[1;36m4\u001b[0m\u001b[1;33m,\u001b[0m \u001b[1;33m[\u001b[0m\u001b[1;36m.6\u001b[0m\u001b[1;33m,\u001b[0m \u001b[1;36m.4\u001b[0m\u001b[1;33m]\u001b[0m\u001b[1;33m)\u001b[0m\u001b[1;33m\u001b[0m\u001b[0m\n\u001b[0m\u001b[0;32m     13\u001b[0m \u001b[1;31m# Train network\u001b[0m\u001b[1;33m\u001b[0m\u001b[1;33m\u001b[0m\u001b[0m\n\u001b[0;32m     14\u001b[0m \u001b[0merror\u001b[0m \u001b[1;33m=\u001b[0m \u001b[0mnet\u001b[0m\u001b[1;33m.\u001b[0m\u001b[0mtrain\u001b[0m\u001b[1;33m(\u001b[0m\u001b[0minput\u001b[0m\u001b[1;33m,\u001b[0m \u001b[0mtarget\u001b[0m\u001b[1;33m,\u001b[0m \u001b[0mepochs\u001b[0m\u001b[1;33m=\u001b[0m\u001b[1;36m1000\u001b[0m\u001b[1;33m,\u001b[0m \u001b[0mgoal\u001b[0m\u001b[1;33m=\u001b[0m\u001b[1;33m-\u001b[0m\u001b[1;36m1\u001b[0m\u001b[1;33m)\u001b[0m\u001b[1;33m\u001b[0m\u001b[0m\n",
      "\u001b[1;32mC:\\Anaconda2\\envs\\py36\\lib\\site-packages\\neurolab\\net.py\u001b[0m in \u001b[0;36mnewlvq\u001b[1;34m(minmax, cn0, pc)\u001b[0m\n\u001b[0;32m    177\u001b[0m     \u001b[1;32mfor\u001b[0m \u001b[0mn\u001b[0m\u001b[1;33m,\u001b[0m \u001b[0mi\u001b[0m \u001b[1;32min\u001b[0m \u001b[0menumerate\u001b[0m\u001b[1;33m(\u001b[0m\u001b[0minx\u001b[0m\u001b[1;33m)\u001b[0m\u001b[1;33m:\u001b[0m\u001b[1;33m\u001b[0m\u001b[0m\n\u001b[0;32m    178\u001b[0m         \u001b[0mst\u001b[0m \u001b[1;33m=\u001b[0m \u001b[1;36m0\u001b[0m \u001b[1;32mif\u001b[0m \u001b[0mn\u001b[0m \u001b[1;33m==\u001b[0m \u001b[1;36m0\u001b[0m \u001b[1;32melse\u001b[0m \u001b[0minx\u001b[0m\u001b[1;33m[\u001b[0m\u001b[0mn\u001b[0m \u001b[1;33m-\u001b[0m \u001b[1;36m1\u001b[0m\u001b[1;33m]\u001b[0m\u001b[1;33m\u001b[0m\u001b[0m\n\u001b[1;32m--> 179\u001b[1;33m         \u001b[0mlayer_out\u001b[0m\u001b[1;33m.\u001b[0m\u001b[0mnp\u001b[0m\u001b[1;33m[\u001b[0m\u001b[1;34m'w'\u001b[0m\u001b[1;33m]\u001b[0m\u001b[1;33m[\u001b[0m\u001b[0mn\u001b[0m\u001b[1;33m]\u001b[0m\u001b[1;33m[\u001b[0m\u001b[0mst\u001b[0m\u001b[1;33m:\u001b[0m\u001b[0mi\u001b[0m\u001b[1;33m]\u001b[0m\u001b[1;33m.\u001b[0m\u001b[0mfill\u001b[0m\u001b[1;33m(\u001b[0m\u001b[1;36m1.0\u001b[0m\u001b[1;33m)\u001b[0m\u001b[1;33m\u001b[0m\u001b[0m\n\u001b[0m\u001b[0;32m    180\u001b[0m     net = Net(minmax, cn1, [layer_inp, layer_out],\n\u001b[0;32m    181\u001b[0m                             [[-1], [0], [1]], train.train_lvq, error.MSE())\n",
      "\u001b[1;31mTypeError\u001b[0m: slice indices must be integers or None or have an __index__ method"
     ]
    }
   ],
   "source": [
    "import numpy as np\n",
    "import neurolab as nl\n",
    "\n",
    "# Create train samples\n",
    "input = np.array([[-3, 0], [-2, 1], [-2, -1], [0, 2], [0, 1], [0, -1], [0, -2], \n",
    "                                                        [2, 1], [2, -1], [3, 0]])\n",
    "target = np.array([[1, 0], [1, 0], [1, 0], [0, 1], [0, 1], [0, 1], [0, 1], \n",
    "                                                        [1, 0], [1, 0], [1, 0]])\n",
    "\n",
    "# Create network with 2 layers:4 neurons in input layer(Competitive)\n",
    "# and 2 neurons in output layer(liner)\n",
    "net = nl.net.newlvq(nl.tool.minmax(input), 4, [.6, .4])\n",
    "# Train network\n",
    "error = net.train(input, target, epochs=1000, goal=-1)\n",
    "\n",
    "# Plot result\n",
    "import pylab as pl\n",
    "xx, yy = np.meshgrid(np.arange(-3, 3.4, 0.2), np.arange(-3, 3.4, 0.2))\n",
    "xx.shape = xx.size, 1\n",
    "yy.shape = yy.size, 1\n",
    "i = np.concatenate((xx, yy), axis=1)\n",
    "o = net.sim(i)\n",
    "grid1 = i[o[:, 0]>0]\n",
    "grid2 = i[o[:, 1]>0]\n",
    "\n",
    "class1 = input[target[:, 0]>0]\n",
    "class2 = input[target[:, 1]>0]\n",
    "\n",
    "pl.plot(class1[:,0], class1[:,1], 'bo', class2[:,0], class2[:,1], 'go')\n",
    "pl.plot(grid1[:,0], grid1[:,1], 'b.', grid2[:,0], grid2[:,1], 'gx')\n",
    "pl.axis([-3.2, 3.2, -3, 3])\n",
    "pl.xlabel('Input[:, 0]')\n",
    "pl.ylabel('Input[:, 1]')\n",
    "pl.legend(['class 1', 'class 2', 'detected class 1', 'detected class 2'])\n",
    "pl.show()"
   ]
  },
  {
   "cell_type": "code",
   "execution_count": null,
   "metadata": {
    "collapsed": true
   },
   "outputs": [],
   "source": []
  }
 ],
 "metadata": {
  "anaconda-cloud": {},
  "kernelspec": {
   "display_name": "Python [conda env:py36]",
   "language": "python",
   "name": "conda-env-py36-py"
  },
  "language_info": {
   "codemirror_mode": {
    "name": "ipython",
    "version": 3
   },
   "file_extension": ".py",
   "mimetype": "text/x-python",
   "name": "python",
   "nbconvert_exporter": "python",
   "pygments_lexer": "ipython3",
   "version": "3.6.1"
  }
 },
 "nbformat": 4,
 "nbformat_minor": 2
}
