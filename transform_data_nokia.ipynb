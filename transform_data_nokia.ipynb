{
 "cells": [
  {
   "cell_type": "code",
   "execution_count": 1,
   "metadata": {
    "collapsed": true
   },
   "outputs": [],
   "source": [
    "import xlrd\n",
    "import xlwt\n",
    "import xlsxwriter"
   ]
  },
  {
   "cell_type": "code",
   "execution_count": 2,
   "metadata": {
    "collapsed": false
   },
   "outputs": [
    {
     "name": "stdout",
     "output_type": "stream",
     "text": [
      "151\n",
      "1395\n"
     ]
    }
   ],
   "source": [
    "datafilein = \"C:/Users/C00310965/Documents/livros/source/load_weekly_v1.xlsx\"\n",
    "workbook = xlrd.open_workbook(datafilein)\n",
    "sheet = workbook.sheet_by_index(0)\n",
    "print sheet.nrows\n",
    "print sheet.ncols"
   ]
  },
  {
   "cell_type": "code",
   "execution_count": 3,
   "metadata": {
    "collapsed": false
   },
   "outputs": [],
   "source": [
    "datafile = \"C:/Users/C00310965/Documents/livros/source/load_weekly_v2.xlsx\"\n",
    "workbook = xlsxwriter.Workbook(datafile)\n",
    "worksheet = workbook.add_worksheet()\n",
    "\n",
    "#worksheet.write('A1', 'Hello world')\n",
    "\n",
    "#workbook.close()"
   ]
  },
  {
   "cell_type": "code",
   "execution_count": 4,
   "metadata": {
    "collapsed": true
   },
   "outputs": [],
   "source": [
    "#sheet_data = [[sheet.cell_value(r, col) for col in range(sheet.ncols)] for r in range(sheet.nrows)]"
   ]
  },
  {
   "cell_type": "code",
   "execution_count": 5,
   "metadata": {
    "collapsed": false
   },
   "outputs": [],
   "source": [
    "count = 0\n",
    "for col in range(1,sheet.ncols):\n",
    "    for row in range(1,sheet.nrows):\n",
    "        #print(row+count)\n",
    "        #print(sheet.cell_value(0, col))\n",
    "        worksheet.write(row+count,0, sheet.cell_value(row, 0))\n",
    "        worksheet.write(row+count,1, sheet.cell_value(0, col))\n",
    "        worksheet.write(row+count,2, sheet.cell_value(row, col))\n",
    "        #print row\n",
    "    count = count+row\n",
    "workbook.close()\n",
    "\n"
   ]
  },
  {
   "cell_type": "code",
   "execution_count": 69,
   "metadata": {
    "collapsed": false
   },
   "outputs": [
    {
     "name": "stdout",
     "output_type": "stream",
     "text": [
      "1394\n"
     ]
    }
   ],
   "source": [
    "print count"
   ]
  },
  {
   "cell_type": "code",
   "execution_count": 89,
   "metadata": {
    "collapsed": false
   },
   "outputs": [
    {
     "data": {
      "text/plain": [
       "212040"
      ]
     },
     "execution_count": 89,
     "metadata": {},
     "output_type": "execute_result"
    }
   ],
   "source": []
  },
  {
   "cell_type": "code",
   "execution_count": null,
   "metadata": {
    "collapsed": true
   },
   "outputs": [],
   "source": []
  }
 ],
 "metadata": {
  "anaconda-cloud": {},
  "kernelspec": {
   "display_name": "Python [Root]",
   "language": "python",
   "name": "Python [Root]"
  },
  "language_info": {
   "codemirror_mode": {
    "name": "ipython",
    "version": 2
   },
   "file_extension": ".py",
   "mimetype": "text/x-python",
   "name": "python",
   "nbconvert_exporter": "python",
   "pygments_lexer": "ipython2",
   "version": "2.7.12"
  }
 },
 "nbformat": 4,
 "nbformat_minor": 0
}
